{
 "cells": [
  {
   "cell_type": "markdown",
   "metadata": {},
   "source": [
    "# KakaoBrunch12M\n",
    "KakaoBrunch12M은 [카카오 아레나에서 공개한 데이터](https://arena.kakao.com/datasets?id=2)로 [브런치 서비스](https://brunch.co.kr) 사용자를 통해 수집한 데이터입니다.\n",
    "\n",
    "이 예제에서는 브런치 데이터에서 ALS를 활용해 특정 글과 유사한 글을 추천하는 예제와 개인화 추천 예제 두 가지를 살펴보겠습니다."
   ]
  },
  {
   "cell_type": "code",
   "execution_count": 2,
   "metadata": {},
   "outputs": [],
   "source": [
    "import buffalo.data\n",
    "from buffalo.algo.als import ALS\n",
    "from buffalo.algo.options import ALSOption\n",
    "from buffalo.misc import aux\n",
    "from buffalo.misc import log \n",
    "from buffalo.data.mm import MatrixMarketOptions\n",
    "\n",
    "log.set_log_level(1) # set log level 3 or higher to check more information"
   ]
  },
  {
   "cell_type": "markdown",
   "metadata": {},
   "source": [
    "## 데이터 불러오기"
   ]
  },
  {
   "cell_type": "code",
   "execution_count": 62,
   "metadata": {},
   "outputs": [
    {
     "data": {
      "text/plain": [
       "{'type': 'matrix_market',\n",
       " 'input': {'main': 'data/kakao-brunch-12m/main',\n",
       "  'iid': 'data/kakao-brunch-12m/iid',\n",
       "  'uid': 'data/kakao-brunch-12m/uid'},\n",
       " 'data': {'internal_data_type': 'matrix',\n",
       "  'validation': {'name': 'sample', 'p': 0.01, 'max_samples': 500},\n",
       "  'batch_mb': 1024,\n",
       "  'use_cache': False,\n",
       "  'tmp_dir': '/tmp/',\n",
       "  'path': './mm.h5py'}}"
      ]
     },
     "execution_count": 62,
     "metadata": {},
     "output_type": "execute_result"
    }
   ],
   "source": [
    "# 브런치 데이터를 ./data/kakao-brunch-12m/ 아래에 위치했다고 가정하겠습니다.\n",
    "data_opt = MatrixMarketOptions().get_default_option()\n",
    "data_opt.input = aux.Option(\n",
    "    {\n",
    "        'main': 'data/kakao-brunch-12m/main',\n",
    "        'iid': 'data/kakao-brunch-12m/iid', \n",
    "        'uid': 'data/kakao-brunch-12m/uid'\n",
    "    }\n",
    ")\n",
    "data_opt\n"
   ]
  },
  {
   "cell_type": "code",
   "execution_count": 70,
   "metadata": {},
   "outputs": [],
   "source": [
    "import os\n",
    "import shutil\n",
    "# KakaoBrunch12M 데이터에는 '#' 으로 시작하는 아이템과 사용자 아이디가 있는데,\n",
    "# numpy에서 이런 라인은 주석으로 인식하기 때문에 다른 문자로 치환할 필요가 있습니다.\n",
    "for filename in ['main', 'uid', 'iid']:\n",
    "    src = f'./data/kakao-brunch-12m/{filename}'\n",
    "    dest = f'./data/kakao-brunch-12m/{filename}.tmp'\n",
    "    with open(src, 'r') as fin:\n",
    "        with open(dest, 'w') as fout:\n",
    "            while True:\n",
    "                read = fin.read(4098)\n",
    "                if len(read) == 0:\n",
    "                    break\n",
    "                read = read.replace('#', '$')\n",
    "                fout.write(read)\n",
    "    shutil.move(dest, src)\n",
    "data = buffalo.data.load(data_opt)\n",
    "data.create()"
   ]
  },
  {
   "cell_type": "markdown",
   "metadata": {},
   "source": [
    "## 유사아이템 추천"
   ]
  },
  {
   "cell_type": "code",
   "execution_count": null,
   "metadata": {
    "scrolled": false
   },
   "outputs": [],
   "source": [
    "# ALS 알고리즘의 기본 옵션으로 파라미터를 학습을 하겠습니다.\n",
    "# 앞선 예제에 비해서는 데이터가 크기 때문에 워커 개수를 늘렸습니다.\n",
    "als_opt = ALSOption().get_default_option()\n",
    "als_opt.num_workers = 4\n",
    "model = ALS(als_opt, data=data)\n",
    "model.initialize()\n",
    "model.train()\n",
    "model.save('brunch.als.model')"
   ]
  },
  {
   "cell_type": "code",
   "execution_count": 6,
   "metadata": {},
   "outputs": [
    {
     "name": "stdout",
     "output_type": "stream",
     "text": [
      "01. 0.994 https://brunch.co.kr/@brunch/149\n",
      "02. 0.968 https://brunch.co.kr/@brunch/147\n",
      "03. 0.950 https://brunch.co.kr/@brunch/144\n",
      "04. 0.944 https://brunch.co.kr/@brunch/145\n",
      "05. 0.934 https://brunch.co.kr/@brunch/143\n"
     ]
    }
   ],
   "source": [
    "# https://brunch.co.kr/@brunch/148 - 작가 인터뷰 - 브랜드 마케터, 정혜윤 by 브런치팀\n",
    "model.load('brunch.als.model')\n",
    "similar_items = model.most_similar('@brunch_148', 5)\n",
    "for rank, (item, score) in enumerate(similar_items):\n",
    "    bid, aid = item.split('_')\n",
    "    print(f'{rank + 1:02d}. {score:.3f} https://brunch.co.kr/{bid}/{aid}')"
   ]
  },
  {
   "cell_type": "markdown",
   "metadata": {},
   "source": [
    "브런치팀이 쓴 글중에서 아래와 같은 글들이 유사한 결과로 나왔습니다.\n",
    "- https://brunch.co.kr/@brunch/149 : 글의 완성도를 높이는 팁, 맞춤법 검사\n",
    "- https://brunch.co.kr/@brunch/147 : 크리에이터스 데이'글력' 후기\n",
    "- https://brunch.co.kr/@brunch/144 : 글을 읽고 쓰는 것, 이 두 가지에만 집중하세요.\n",
    "- https://brunch.co.kr/@brunch/145 : 10인의 에디터와 함께 하는, 브런치북 프로젝트 #6\n",
    "- https://brunch.co.kr/@brunch/143 : 크리에이터스 스튜디오 '글쓰기 클래스' 후기"
   ]
  },
  {
   "cell_type": "markdown",
   "metadata": {},
   "source": [
    "## 개인화 추천 예제"
   ]
  },
  {
   "cell_type": "code",
   "execution_count": 12,
   "metadata": {},
   "outputs": [
    {
     "name": "stdout",
     "output_type": "stream",
     "text": [
      "01. https://brunch.co.kr/@sweetannie/145\n",
      "02. https://brunch.co.kr/@intlovesong/28\n",
      "03. https://brunch.co.kr/@tenbody/1164\n",
      "04. https://brunch.co.kr/@dailylife/207\n",
      "05. https://brunch.co.kr/@steven/179\n",
      "06. https://brunch.co.kr/@conbus/43\n",
      "07. https://brunch.co.kr/@bzup/281\n",
      "08. https://brunch.co.kr/@deckey1985/51\n",
      "09. https://brunch.co.kr/@brunch/151\n",
      "10. https://brunch.co.kr/@tenbody/1305\n"
     ]
    }
   ],
   "source": [
    "# 사용자에 대한 개인화 추천 결과는 topk_recommendation으로 얻을 수 있습니다.\n",
    "# ALS 모델을 사용하는 가장 기본적인 방식입니다. \n",
    "for rank, item in enumerate(model.topk_recommendation('$424ec49fa8423d82629c73e6d5ae9408')):\n",
    "    bid, aid = item.split('_')\n",
    "    print(f'{rank + 1:02d}. https://brunch.co.kr/{bid}/{aid}')"
   ]
  },
  {
   "cell_type": "code",
   "execution_count": 25,
   "metadata": {
    "scrolled": true
   },
   "outputs": [
    {
     "name": "stdout",
     "output_type": "stream",
     "text": [
      "01. 0.991 https://brunch.co.kr/@lonelyplanet/3\n",
      "02. 0.939 https://brunch.co.kr/@tube007/66\n",
      "03. 0.924 https://brunch.co.kr/@leeseonyoung/38\n",
      "04. 0.909 https://brunch.co.kr/@looktothesky/8\n",
      "05. 0.898 https://brunch.co.kr/@juliakimcued/95\n",
      "06. 0.894 https://brunch.co.kr/@koncreate/38\n",
      "07. 0.894 https://brunch.co.kr/@sound4u2005/56\n",
      "08. 0.894 https://brunch.co.kr/@enormous-hat/332\n",
      "09. 0.894 https://brunch.co.kr/@nakyungseol/20\n",
      "10. 0.883 https://brunch.co.kr/@yehyun86/80\n"
     ]
    }
   ],
   "source": [
    "# get_weighted_feature를 응용하면 임의의 관심사를 가진 사용자에게 \n",
    "# 전달할 추천 결과를 만들 수 있습니다.\n",
    "personal_feat = model.get_weighted_feature({\n",
    "    '@lonelyplanet_3': 1, # https://brunch.co.kr/@lonelyplanet/3\n",
    "    '@tube007_66': 1  # https://brunch.co.kr/@tube007/66\n",
    "})\n",
    "similar_items = model.most_similar(personal_feat, 10)\n",
    "for rank, (item, score) in enumerate(similar_items):\n",
    "    bid, aid = item.split('_')\n",
    "    print(f'{rank + 1:02d}. {score:.3f} https://brunch.co.kr/{bid}/{aid}')"
   ]
  },
  {
   "cell_type": "markdown",
   "metadata": {},
   "source": []
  }
 ],
 "metadata": {
  "kernelspec": {
   "display_name": "Python 3",
   "language": "python",
   "name": "python3"
  },
  "language_info": {
   "codemirror_mode": {
    "name": "ipython",
    "version": 3
   },
   "file_extension": ".py",
   "mimetype": "text/x-python",
   "name": "python",
   "nbconvert_exporter": "python",
   "pygments_lexer": "ipython3",
   "version": "3.7.3"
  }
 },
 "nbformat": 4,
 "nbformat_minor": 2
}
